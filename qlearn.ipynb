{
 "cells": [
  {
   "cell_type": "code",
   "execution_count": 236,
   "metadata": {
    "id": "RLMa1EFm90Ph"
   },
   "outputs": [],
   "source": [
    "import numpy as np\n",
    "from tqdm import tqdm\n",
    "import random"
   ]
  },
  {
   "cell_type": "markdown",
   "metadata": {
    "id": "ySXM8vmQ7Q0N"
   },
   "source": [
    "# Create Maze\n",
    "\n",
    "Here I'm making a maze that uses just one digit ints so that it looks good and so that the most optimal path can be computed easily. A spoiler is that we will be using (9, 10) as the starting location and (0,5) as the ending location, noted by the 9. The optimal path is then:\n",
    "\n",
    "[(9, 10), (9, 9), (9, 8), (9, 7), (8, 7), (7, 7), (7, 6), (7, 5), (6, 5), (5, 5), (5, 6), (5, 7), (4, 7), (3, 7), (2, 7), (1, 7), (1, 6), (1, 5), (0, 5)]"
   ]
  },
  {
   "cell_type": "code",
   "execution_count": 237,
   "metadata": {
    "id": "O3JIwgifLIDT"
   },
   "outputs": [],
   "source": [
    "maze = [[-9,-9,-9,-9,-9, 9,-9,-9,-9,-9,-9],\n",
    "        [-9,-1,-1,-1,-1,-1, 1,-1,-1,-1,-9],\n",
    "        [-9,-1,-9,-9,-9,-9,-9,-1,-9,-1,-9],\n",
    "        [-9,-1,-1,-1,-1,-1,-1,-1,-9,-1,-9],\n",
    "        [-9,-9,-9,-1,-9,-9,-9,-1,-9,-9,-9],\n",
    "        [-1,-1,-1,-1,-1,-1,-1,-1,-1,-1,-1],\n",
    "        [-9,-9,-9,-9,-9,-1,-9,-9,-9,-9,-9],\n",
    "        [-9,-1,-1,-1,-1,-1,-1,-1,-1,-1,-9],\n",
    "        [-9,-9,-9,-1,-9,-9,-9,-1,-9,-9,-9],\n",
    "        [-1,-1,-1,-1,-1,-1,-1,-1,-1,-1,-1],\n",
    "        [-9,-9,-9,-9,-9,-9,-9,-9,-9,-9,-9]]"
   ]
  },
  {
   "cell_type": "code",
   "execution_count": 238,
   "metadata": {
    "id": "TfwbvvcdA-OP"
   },
   "outputs": [],
   "source": [
    "m_row = len(maze)\n",
    "m_col = len(maze[0])"
   ]
  },
  {
   "cell_type": "markdown",
   "metadata": {
    "id": "UBWxF6KXQR_A"
   },
   "source": [
    "# Q learning\n",
    "\n",
    "Because there are four options at every step of the maze, (up, down, left, right), we then create the necessary q table with the shape of (m_row, m_col 4) for the four directions"
   ]
  },
  {
   "cell_type": "code",
   "execution_count": 239,
   "metadata": {
    "id": "ndsJlwcGGr_M"
   },
   "outputs": [],
   "source": [
    "q_table = np.zeros((maze_row, maze_col,  4))"
   ]
  },
  {
   "cell_type": "markdown",
   "metadata": {
    "id": "r84E7iNDRXOp"
   },
   "source": [
    "find the next action from the q_table to figure out which way to go"
   ]
  },
  {
   "cell_type": "code",
   "execution_count": 240,
   "metadata": {
    "id": "LeV0KCGqHdZh"
   },
   "outputs": [],
   "source": [
    "def get_next_action(row, col, epilson):\n",
    "    if np.random.random() < epilson:\n",
    "        return np.argmax(q_table[row,col])\n",
    "    else:\n",
    "        return np.random.randint(4)"
   ]
  },
  {
   "cell_type": "markdown",
   "metadata": {
    "id": "yeKBPavBRaow"
   },
   "source": [
    "Move in the direction of the directed action"
   ]
  },
  {
   "cell_type": "code",
   "execution_count": 241,
   "metadata": {
    "id": "IQkjPIm18oxq"
   },
   "outputs": [],
   "source": [
    "def get_next_cell(row, col,step_index):\n",
    "    up_right_down_left = [(row-1,col),(row,col+1),(row+1,col),(row,col-1)]\n",
    "    x, y = up_right_down_left[step_index]\n",
    "    if 0 <= x < maze_row and 0 <= y < maze_col:\n",
    "        return up_right_down_left[step_index]\n",
    "    else:\n",
    "        return (row, col)"
   ]
  },
  {
   "cell_type": "markdown",
   "metadata": {},
   "source": [
    "Here we have the two terminal states that we keep track of so that we know when we end our journey or if we come to a dead end."
   ]
  },
  {
   "cell_type": "code",
   "execution_count": 242,
   "metadata": {
    "id": "6uxXMKbeKigJ"
   },
   "outputs": [],
   "source": [
    "terminal_state = [-9,9]"
   ]
  },
  {
   "cell_type": "markdown",
   "metadata": {
    "id": "ARNxA2giPpke"
   },
   "source": [
    "## Training\n",
    "\n",
    "Get a random starting state that is not on the goal or on a wall. We use this random start for training purposes and such."
   ]
  },
  {
   "cell_type": "code",
   "execution_count": 243,
   "metadata": {
    "id": "5LV7604cGGj6"
   },
   "outputs": [],
   "source": [
    "epilson = 0.9\n",
    "discount_factor = 0.9\n",
    "learning_rate = 0.9\n",
    "epochs = 1000\n",
    "\n",
    "def get_random_start():\n",
    "    while True:\n",
    "        row = np.random.randint(maze_row)\n",
    "        col = np.random.randint(maze_col)\n",
    "        if not maze[row][col] in terminal_state:\n",
    "            return (row,col)"
   ]
  },
  {
   "cell_type": "code",
   "execution_count": 244,
   "metadata": {
    "id": "mk70ZRrSGL64"
   },
   "outputs": [],
   "source": [
    "def train():\n",
    "    for _ in tqdm(range(epochs)):\n",
    "        row, col = get_random_start()\n",
    "\n",
    "        while not maze[row][col] in terminal_state:\n",
    "            action_index = get_next_action(row,col, epilson)\n",
    "\n",
    "            old_row, old_col = row , col\n",
    "            row , col = get_next_cell(row,col,action_index)\n",
    "\n",
    "            reward = maze[row][col]\n",
    "            old_q_val = q_table[old_row, old_col, action_index]\n",
    "            temporal_diff = reward + (discount_factor * np.max(q_table[row, col])) - old_q_val\n",
    "\n",
    "            new_q_val = old_q_val + (learning_rate * temporal_diff)\n",
    "            q_table[old_row, old_col, action_index] = new_q_val"
   ]
  },
  {
   "cell_type": "code",
   "execution_count": 245,
   "metadata": {
    "colab": {
     "base_uri": "https://localhost:8080/"
    },
    "id": "nmvQWvwmaEHr",
    "outputId": "692c4d7a-f2c5-4d73-e19f-62ee5c09c14b"
   },
   "outputs": [
    {
     "name": "stderr",
     "output_type": "stream",
     "text": [
      "\n",
      "  0%|          | 0/1000 [00:00<?, ?it/s]\u001b[A\n",
      " 84%|████████▍ | 839/1000 [00:00<00:00, 8383.71it/s]\u001b[A\n",
      "100%|██████████| 1000/1000 [00:00<00:00, 7576.51it/s]\u001b[A"
     ]
    }
   ],
   "source": [
    "train()"
   ]
  },
  {
   "cell_type": "code",
   "execution_count": 246,
   "metadata": {
    "id": "jfSkaEc7ODgJ"
   },
   "outputs": [],
   "source": [
    "def get_shortest_path(row, col):\n",
    "    if maze[row][col] in terminal_state:\n",
    "        return []\n",
    "    else: \n",
    "        cur_row , cur_col = row, col\n",
    "        shortest_path = []\n",
    "        shortest_path.append((cur_row, cur_col))\n",
    "        while not maze[cur_row][cur_col] in terminal_state:\n",
    "            action_index = get_next_action(cur_row, cur_col, 1.)\n",
    "            cur_row, cur_col = get_next_cell(cur_row, cur_col, action_index)\n",
    "            shortest_path.append((cur_row, cur_col))\n",
    "        return shortest_path"
   ]
  },
  {
   "cell_type": "code",
   "execution_count": 247,
   "metadata": {
    "colab": {
     "base_uri": "https://localhost:8080/"
    },
    "id": "qw0CswO7UOhu",
    "outputId": "187a1b4b-b6b7-4b18-9d01-cbd45500d8b9"
   },
   "outputs": [
    {
     "name": "stdout",
     "output_type": "stream",
     "text": [
      "[(9, 10), (9, 9), (9, 8), (9, 7), (8, 7), (7, 7), (7, 6), (7, 5), (6, 5), (5, 5), (5, 6), (5, 7), (4, 7), (3, 7), (2, 7), (1, 7), (1, 6), (1, 5), (0, 5)]\n"
     ]
    }
   ],
   "source": [
    "human_pos = (9,10)\n",
    "path = get_shortest_path(human_pos[0], human_pos[1])\n",
    "print(path)"
   ]
  },
  {
   "cell_type": "code",
   "execution_count": null,
   "metadata": {},
   "outputs": [],
   "source": []
  }
 ],
 "metadata": {
  "colab": {
   "authorship_tag": "ABX9TyOY05BGa58R2rNgIb0RhELE",
   "collapsed_sections": [],
   "include_colab_link": true,
   "name": "TreasureHunt.ipynb",
   "provenance": []
  },
  "kernelspec": {
   "display_name": "Python 3",
   "language": "python",
   "name": "python3"
  },
  "language_info": {
   "codemirror_mode": {
    "name": "ipython",
    "version": 3
   },
   "file_extension": ".py",
   "mimetype": "text/x-python",
   "name": "python",
   "nbconvert_exporter": "python",
   "pygments_lexer": "ipython3",
   "version": "3.7.10"
  }
 },
 "nbformat": 4,
 "nbformat_minor": 1
}
